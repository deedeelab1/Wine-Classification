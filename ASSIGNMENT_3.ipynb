{
  "nbformat": 4,
  "nbformat_minor": 0,
  "metadata": {
    "colab": {
      "provenance": [],
      "gpuType": "T4",
      "include_colab_link": true
    },
    "kernelspec": {
      "display_name": "Python 3",
      "name": "python3"
    },
    "language_info": {
      "codemirror_mode": {
        "name": "ipython",
        "version": 3
      },
      "file_extension": ".py",
      "mimetype": "text/x-python",
      "name": "python",
      "nbconvert_exporter": "python",
      "pygments_lexer": "ipython3",
      "version": "3.6.5"
    },
    "accelerator": "GPU"
  },
  "cells": [
    {
      "cell_type": "markdown",
      "metadata": {
        "id": "view-in-github",
        "colab_type": "text"
      },
      "source": [
        "<a href=\"https://colab.research.google.com/github/deedeelab1/Wine-Classification/blob/main/ASSIGNMENT_3.ipynb\" target=\"_parent\"><img src=\"https://colab.research.google.com/assets/colab-badge.svg\" alt=\"Open In Colab\"/></a>"
      ]
    },
    {
      "cell_type": "markdown",
      "metadata": {
        "id": "1qV6Grv7qIa9"
      },
      "source": [
        "### ASSIGNMENT 3\n"
      ]
    },
    {
      "cell_type": "code",
      "source": [
        "!rm -rf spark-3.1.1-bin-hadoop3.2"
      ],
      "metadata": {
        "id": "CFdihR9S3lav"
      },
      "execution_count": null,
      "outputs": []
    },
    {
      "cell_type": "code",
      "metadata": {
        "id": "tt7ZS1_wGgjn",
        "colab": {
          "base_uri": "https://localhost:8080/"
        },
        "outputId": "1ddefe47-646a-495e-a0d5-7b823a4f0224"
      },
      "source": [
        "!apt-get install openjdk-8-jdk-headless -qq > /dev/null\n",
        "#!wget -q --show-progress http://archive.apache.org/dist/spark/spark-3.1.1/spark-3.1.1-bin-hadoop3.2.tgz\n",
        "#!tar xf spark-3.1.1-bin-hadoop3.2.tgz\n",
        "!pip install -q findspark pyspark\n",
        "#!pip -q install findspark pyspark graphframes\n",
        "!pip show pyspark"
      ],
      "execution_count": null,
      "outputs": [
        {
          "output_type": "stream",
          "name": "stdout",
          "text": [
            "\u001b[2K     \u001b[90m━━━━━━━━━━━━━━━━━━━━━━━━━━━━━━━━━━━━━━━━\u001b[0m \u001b[32m317.0/317.0 MB\u001b[0m \u001b[31m4.4 MB/s\u001b[0m eta \u001b[36m0:00:00\u001b[0m\n",
            "\u001b[?25h  Preparing metadata (setup.py) ... \u001b[?25l\u001b[?25hdone\n",
            "  Building wheel for pyspark (setup.py) ... \u001b[?25l\u001b[?25hdone\n",
            "Name: pyspark\n",
            "Version: 3.5.1\n",
            "Summary: Apache Spark Python API\n",
            "Home-page: https://github.com/apache/spark/tree/master/python\n",
            "Author: Spark Developers\n",
            "Author-email: dev@spark.apache.org\n",
            "License: http://www.apache.org/licenses/LICENSE-2.0\n",
            "Location: /usr/local/lib/python3.10/dist-packages\n",
            "Requires: py4j\n",
            "Required-by: \n"
          ]
        }
      ]
    },
    {
      "cell_type": "markdown",
      "metadata": {
        "id": "C3x0ZRLxjMVr"
      },
      "source": [
        "Set Environment Variables:"
      ]
    },
    {
      "cell_type": "code",
      "metadata": {
        "id": "sdOOq4twHN1K"
      },
      "source": [
        "import os\n",
        "os.environ[\"JAVA_HOME\"] = \"/usr/lib/jvm/java-8-openjdk-amd64\"\n",
        "#os.environ[\"SPARK_HOME\"] = \"/content/spark-3.1.1-bin-hadoop3.2\""
      ],
      "execution_count": null,
      "outputs": []
    },
    {
      "cell_type": "code",
      "metadata": {
        "id": "3ACYMwhgHTYz",
        "colab": {
          "base_uri": "https://localhost:8080/"
        },
        "outputId": "428bac3b-8f8e-4495-d672-ab131b2d01db"
      },
      "source": [
        "!ls"
      ],
      "execution_count": null,
      "outputs": [
        {
          "output_type": "stream",
          "name": "stdout",
          "text": [
            "sample_data\n"
          ]
        }
      ]
    },
    {
      "cell_type": "code",
      "source": [
        "!pip show pyspark"
      ],
      "metadata": {
        "colab": {
          "base_uri": "https://localhost:8080/"
        },
        "id": "2UyTMRZMNc-P",
        "outputId": "3ca09f24-4d35-434e-d22d-1ac40f6ff071"
      },
      "execution_count": null,
      "outputs": [
        {
          "output_type": "stream",
          "name": "stdout",
          "text": [
            "Name: pyspark\n",
            "Version: 3.5.1\n",
            "Summary: Apache Spark Python API\n",
            "Home-page: https://github.com/apache/spark/tree/master/python\n",
            "Author: Spark Developers\n",
            "Author-email: dev@spark.apache.org\n",
            "License: http://www.apache.org/licenses/LICENSE-2.0\n",
            "Location: /usr/local/lib/python3.10/dist-packages\n",
            "Requires: py4j\n",
            "Required-by: \n"
          ]
        }
      ]
    },
    {
      "cell_type": "markdown",
      "source": [
        "### Installing GraphFrames"
      ],
      "metadata": {
        "id": "h80DxqoaCbJK"
      }
    },
    {
      "cell_type": "code",
      "source": [
        "!pip install graphframes"
      ],
      "metadata": {
        "id": "_PYxeVmcjt2A",
        "colab": {
          "base_uri": "https://localhost:8080/"
        },
        "outputId": "6308c610-ec35-48be-8e58-9eaf3dcb7fc2"
      },
      "execution_count": null,
      "outputs": [
        {
          "output_type": "stream",
          "name": "stdout",
          "text": [
            "Requirement already satisfied: graphframes in /usr/local/lib/python3.10/dist-packages (0.6)\n",
            "Requirement already satisfied: numpy in /usr/local/lib/python3.10/dist-packages (from graphframes) (1.25.2)\n",
            "Requirement already satisfied: nose in /usr/local/lib/python3.10/dist-packages (from graphframes) (1.3.7)\n"
          ]
        }
      ]
    },
    {
      "cell_type": "code",
      "source": [
        "!python -V"
      ],
      "metadata": {
        "colab": {
          "base_uri": "https://localhost:8080/"
        },
        "id": "fvBrk95ANPcA",
        "outputId": "79acaef7-cd10-461e-d23a-8936b6e3b083"
      },
      "execution_count": null,
      "outputs": [
        {
          "output_type": "stream",
          "name": "stdout",
          "text": [
            "Python 3.10.12\n"
          ]
        }
      ]
    },
    {
      "cell_type": "code",
      "source": [
        "!curl -L -o \"/usr/local/lib/python3.10/dist-packages/pyspark/jars/graphframes-0.8.2-spark3.3.2-s_2.11.jar\" https://repos.spark-packages.org/graphframes/graphframes/0.8.2-spark3.1-s_2.12/graphframes-0.8.2-spark3.1-s_2.12.jar"
      ],
      "metadata": {
        "colab": {
          "base_uri": "https://localhost:8080/"
        },
        "id": "ImOiBbPIPRYI",
        "outputId": "587872eb-e563-4690-9bdd-a8b34c4d5664"
      },
      "execution_count": null,
      "outputs": [
        {
          "output_type": "stream",
          "name": "stdout",
          "text": [
            "  % Total    % Received % Xferd  Average Speed   Time    Time     Time  Current\n",
            "                                 Dload  Upload   Total   Spent    Left  Speed\n",
            "100  242k  100  242k    0     0  1870k      0 --:--:-- --:--:-- --:--:-- 1876k\n"
          ]
        }
      ]
    },
    {
      "cell_type": "code",
      "source": [
        "!ls /usr/local/lib/python3.10/dist-packages/pyspark/jars/"
      ],
      "metadata": {
        "colab": {
          "base_uri": "https://localhost:8080/"
        },
        "id": "ZJx9yuqmN7Lt",
        "outputId": "315a2bf5-ac57-4b27-ab57-e7d22be27d1d"
      },
      "execution_count": null,
      "outputs": [
        {
          "output_type": "stream",
          "name": "stdout",
          "text": [
            "activation-1.1.1.jar\n",
            "aircompressor-0.26.jar\n",
            "algebra_2.12-2.0.1.jar\n",
            "annotations-17.0.0.jar\n",
            "antlr4-runtime-4.9.3.jar\n",
            "antlr-runtime-3.5.2.jar\n",
            "aopalliance-repackaged-2.6.1.jar\n",
            "arpack-3.0.3.jar\n",
            "arpack_combined_all-0.1.jar\n",
            "arrow-format-12.0.1.jar\n",
            "arrow-memory-core-12.0.1.jar\n",
            "arrow-memory-netty-12.0.1.jar\n",
            "arrow-vector-12.0.1.jar\n",
            "audience-annotations-0.5.0.jar\n",
            "avro-1.11.2.jar\n",
            "avro-ipc-1.11.2.jar\n",
            "avro-mapred-1.11.2.jar\n",
            "blas-3.0.3.jar\n",
            "bonecp-0.8.0.RELEASE.jar\n",
            "breeze_2.12-2.1.0.jar\n",
            "breeze-macros_2.12-2.1.0.jar\n",
            "cats-kernel_2.12-2.1.1.jar\n",
            "chill_2.12-0.10.0.jar\n",
            "chill-java-0.10.0.jar\n",
            "commons-cli-1.5.0.jar\n",
            "commons-codec-1.16.0.jar\n",
            "commons-collections-3.2.2.jar\n",
            "commons-collections4-4.4.jar\n",
            "commons-compiler-3.1.9.jar\n",
            "commons-compress-1.23.0.jar\n",
            "commons-crypto-1.1.0.jar\n",
            "commons-dbcp-1.4.jar\n",
            "commons-io-2.13.0.jar\n",
            "commons-lang-2.6.jar\n",
            "commons-lang3-3.12.0.jar\n",
            "commons-logging-1.1.3.jar\n",
            "commons-math3-3.6.1.jar\n",
            "commons-pool-1.5.4.jar\n",
            "commons-text-1.10.0.jar\n",
            "compress-lzf-1.1.2.jar\n",
            "curator-client-2.13.0.jar\n",
            "curator-framework-2.13.0.jar\n",
            "curator-recipes-2.13.0.jar\n",
            "datanucleus-api-jdo-4.2.4.jar\n",
            "datanucleus-core-4.1.17.jar\n",
            "datanucleus-rdbms-4.1.19.jar\n",
            "datasketches-java-3.3.0.jar\n",
            "datasketches-memory-2.1.0.jar\n",
            "derby-10.14.2.0.jar\n",
            "dropwizard-metrics-hadoop-metrics2-reporter-0.1.2.jar\n",
            "flatbuffers-java-1.12.0.jar\n",
            "graphframes-0.8.2-spark3.3.2-s_2.11.jar\n",
            "gson-2.2.4.jar\n",
            "guava-14.0.1.jar\n",
            "hadoop-client-api-3.3.4.jar\n",
            "hadoop-client-runtime-3.3.4.jar\n",
            "hadoop-shaded-guava-1.1.1.jar\n",
            "hadoop-yarn-server-web-proxy-3.3.4.jar\n",
            "HikariCP-2.5.1.jar\n",
            "hive-beeline-2.3.9.jar\n",
            "hive-cli-2.3.9.jar\n",
            "hive-common-2.3.9.jar\n",
            "hive-exec-2.3.9-core.jar\n",
            "hive-jdbc-2.3.9.jar\n",
            "hive-llap-common-2.3.9.jar\n",
            "hive-metastore-2.3.9.jar\n",
            "hive-serde-2.3.9.jar\n",
            "hive-service-rpc-3.1.3.jar\n",
            "hive-shims-0.23-2.3.9.jar\n",
            "hive-shims-2.3.9.jar\n",
            "hive-shims-common-2.3.9.jar\n",
            "hive-shims-scheduler-2.3.9.jar\n",
            "hive-storage-api-2.8.1.jar\n",
            "hk2-api-2.6.1.jar\n",
            "hk2-locator-2.6.1.jar\n",
            "hk2-utils-2.6.1.jar\n",
            "httpclient-4.5.14.jar\n",
            "httpcore-4.4.16.jar\n",
            "istack-commons-runtime-3.0.8.jar\n",
            "ivy-2.5.1.jar\n",
            "jackson-annotations-2.15.2.jar\n",
            "jackson-core-2.15.2.jar\n",
            "jackson-core-asl-1.9.13.jar\n",
            "jackson-databind-2.15.2.jar\n",
            "jackson-dataformat-yaml-2.15.2.jar\n",
            "jackson-datatype-jsr310-2.15.2.jar\n",
            "jackson-mapper-asl-1.9.13.jar\n",
            "jackson-module-scala_2.12-2.15.2.jar\n",
            "jakarta.annotation-api-1.3.5.jar\n",
            "jakarta.inject-2.6.1.jar\n",
            "jakarta.servlet-api-4.0.3.jar\n",
            "jakarta.validation-api-2.0.2.jar\n",
            "jakarta.ws.rs-api-2.1.6.jar\n",
            "jakarta.xml.bind-api-2.3.2.jar\n",
            "janino-3.1.9.jar\n",
            "javassist-3.29.2-GA.jar\n",
            "javax.jdo-3.2.0-m3.jar\n",
            "javolution-5.5.1.jar\n",
            "jaxb-runtime-2.3.2.jar\n",
            "jcl-over-slf4j-2.0.7.jar\n",
            "jdo-api-3.0.1.jar\n",
            "jersey-client-2.40.jar\n",
            "jersey-common-2.40.jar\n",
            "jersey-container-servlet-2.40.jar\n",
            "jersey-container-servlet-core-2.40.jar\n",
            "jersey-hk2-2.40.jar\n",
            "jersey-server-2.40.jar\n",
            "JLargeArrays-1.5.jar\n",
            "jline-2.14.6.jar\n",
            "joda-time-2.12.5.jar\n",
            "jodd-core-3.5.2.jar\n",
            "jpam-1.1.jar\n",
            "json-1.8.jar\n",
            "json4s-ast_2.12-3.7.0-M11.jar\n",
            "json4s-core_2.12-3.7.0-M11.jar\n",
            "json4s-jackson_2.12-3.7.0-M11.jar\n",
            "json4s-scalap_2.12-3.7.0-M11.jar\n",
            "jsr305-3.0.0.jar\n",
            "jta-1.1.jar\n",
            "JTransforms-3.1.jar\n",
            "jul-to-slf4j-2.0.7.jar\n",
            "kryo-shaded-4.0.2.jar\n",
            "kubernetes-client-6.7.2.jar\n",
            "kubernetes-client-api-6.7.2.jar\n",
            "kubernetes-httpclient-okhttp-6.7.2.jar\n",
            "kubernetes-model-admissionregistration-6.7.2.jar\n",
            "kubernetes-model-apiextensions-6.7.2.jar\n",
            "kubernetes-model-apps-6.7.2.jar\n",
            "kubernetes-model-autoscaling-6.7.2.jar\n",
            "kubernetes-model-batch-6.7.2.jar\n",
            "kubernetes-model-certificates-6.7.2.jar\n",
            "kubernetes-model-common-6.7.2.jar\n",
            "kubernetes-model-coordination-6.7.2.jar\n",
            "kubernetes-model-core-6.7.2.jar\n",
            "kubernetes-model-discovery-6.7.2.jar\n",
            "kubernetes-model-events-6.7.2.jar\n",
            "kubernetes-model-extensions-6.7.2.jar\n",
            "kubernetes-model-flowcontrol-6.7.2.jar\n",
            "kubernetes-model-gatewayapi-6.7.2.jar\n",
            "kubernetes-model-metrics-6.7.2.jar\n",
            "kubernetes-model-networking-6.7.2.jar\n",
            "kubernetes-model-node-6.7.2.jar\n",
            "kubernetes-model-policy-6.7.2.jar\n",
            "kubernetes-model-rbac-6.7.2.jar\n",
            "kubernetes-model-resource-6.7.2.jar\n",
            "kubernetes-model-scheduling-6.7.2.jar\n",
            "kubernetes-model-storageclass-6.7.2.jar\n",
            "lapack-3.0.3.jar\n",
            "leveldbjni-all-1.8.jar\n",
            "libfb303-0.9.3.jar\n",
            "libthrift-0.12.0.jar\n",
            "log4j-1.2-api-2.20.0.jar\n",
            "log4j-api-2.20.0.jar\n",
            "log4j-core-2.20.0.jar\n",
            "log4j-slf4j2-impl-2.20.0.jar\n",
            "logging-interceptor-3.12.12.jar\n",
            "lz4-java-1.8.0.jar\n",
            "mesos-1.4.3-shaded-protobuf.jar\n",
            "metrics-core-4.2.19.jar\n",
            "metrics-graphite-4.2.19.jar\n",
            "metrics-jmx-4.2.19.jar\n",
            "metrics-json-4.2.19.jar\n",
            "metrics-jvm-4.2.19.jar\n",
            "minlog-1.3.0.jar\n",
            "netty-all-4.1.96.Final.jar\n",
            "netty-buffer-4.1.96.Final.jar\n",
            "netty-codec-4.1.96.Final.jar\n",
            "netty-codec-http2-4.1.96.Final.jar\n",
            "netty-codec-http-4.1.96.Final.jar\n",
            "netty-codec-socks-4.1.96.Final.jar\n",
            "netty-common-4.1.96.Final.jar\n",
            "netty-handler-4.1.96.Final.jar\n",
            "netty-handler-proxy-4.1.96.Final.jar\n",
            "netty-resolver-4.1.96.Final.jar\n",
            "netty-transport-4.1.96.Final.jar\n",
            "netty-transport-classes-epoll-4.1.96.Final.jar\n",
            "netty-transport-classes-kqueue-4.1.96.Final.jar\n",
            "netty-transport-native-epoll-4.1.96.Final-linux-aarch_64.jar\n",
            "netty-transport-native-epoll-4.1.96.Final-linux-x86_64.jar\n",
            "netty-transport-native-kqueue-4.1.96.Final-osx-aarch_64.jar\n",
            "netty-transport-native-kqueue-4.1.96.Final-osx-x86_64.jar\n",
            "netty-transport-native-unix-common-4.1.96.Final.jar\n",
            "objenesis-3.3.jar\n",
            "okhttp-3.12.12.jar\n",
            "okio-1.15.0.jar\n",
            "opencsv-2.3.jar\n",
            "orc-core-1.9.2-shaded-protobuf.jar\n",
            "orc-mapreduce-1.9.2-shaded-protobuf.jar\n",
            "orc-shims-1.9.2.jar\n",
            "oro-2.0.8.jar\n",
            "osgi-resource-locator-1.0.3.jar\n",
            "paranamer-2.8.jar\n",
            "parquet-column-1.13.1.jar\n",
            "parquet-common-1.13.1.jar\n",
            "parquet-encoding-1.13.1.jar\n",
            "parquet-format-structures-1.13.1.jar\n",
            "parquet-hadoop-1.13.1.jar\n",
            "parquet-jackson-1.13.1.jar\n",
            "pickle-1.3.jar\n",
            "py4j-0.10.9.7.jar\n",
            "RoaringBitmap-0.9.45.jar\n",
            "rocksdbjni-8.3.2.jar\n",
            "scala-collection-compat_2.12-2.7.0.jar\n",
            "scala-compiler-2.12.18.jar\n",
            "scala-library-2.12.18.jar\n",
            "scala-parser-combinators_2.12-2.3.0.jar\n",
            "scala-reflect-2.12.18.jar\n",
            "scala-xml_2.12-2.1.0.jar\n",
            "shims-0.9.45.jar\n",
            "slf4j-api-2.0.7.jar\n",
            "snakeyaml-2.0.jar\n",
            "snakeyaml-engine-2.6.jar\n",
            "snappy-java-1.1.10.3.jar\n",
            "spark-catalyst_2.12-3.5.1.jar\n",
            "spark-common-utils_2.12-3.5.1.jar\n",
            "spark-core_2.12-3.5.1.jar\n",
            "spark-graphx_2.12-3.5.1.jar\n",
            "spark-hive_2.12-3.5.1.jar\n",
            "spark-hive-thriftserver_2.12-3.5.1.jar\n",
            "spark-kubernetes_2.12-3.5.1.jar\n",
            "spark-kvstore_2.12-3.5.1.jar\n",
            "spark-launcher_2.12-3.5.1.jar\n",
            "spark-mesos_2.12-3.5.1.jar\n",
            "spark-mllib_2.12-3.5.1.jar\n",
            "spark-mllib-local_2.12-3.5.1.jar\n",
            "spark-network-common_2.12-3.5.1.jar\n",
            "spark-network-shuffle_2.12-3.5.1.jar\n",
            "spark-repl_2.12-3.5.1.jar\n",
            "spark-sketch_2.12-3.5.1.jar\n",
            "spark-sql_2.12-3.5.1.jar\n",
            "spark-sql-api_2.12-3.5.1.jar\n",
            "spark-streaming_2.12-3.5.1.jar\n",
            "spark-tags_2.12-3.5.1.jar\n",
            "spark-unsafe_2.12-3.5.1.jar\n",
            "spark-yarn_2.12-3.5.1.jar\n",
            "spire_2.12-0.17.0.jar\n",
            "spire-macros_2.12-0.17.0.jar\n",
            "spire-platform_2.12-0.17.0.jar\n",
            "spire-util_2.12-0.17.0.jar\n",
            "ST4-4.0.4.jar\n",
            "stax-api-1.0.1.jar\n",
            "stream-2.9.6.jar\n",
            "super-csv-2.2.0.jar\n",
            "threeten-extra-1.7.1.jar\n",
            "tink-1.9.0.jar\n",
            "transaction-api-1.1.jar\n",
            "univocity-parsers-2.9.1.jar\n",
            "xbean-asm9-shaded-4.23.jar\n",
            "xz-1.9.jar\n",
            "zjsonpatch-0.3.0.jar\n",
            "zookeeper-3.6.3.jar\n",
            "zookeeper-jute-3.6.3.jar\n",
            "zstd-jni-1.5.5-4.jar\n"
          ]
        }
      ]
    },
    {
      "cell_type": "markdown",
      "source": [
        "### Starting Spark with Libraries Loaded"
      ],
      "metadata": {
        "id": "VGIaDORNCi6v"
      }
    },
    {
      "cell_type": "code",
      "source": [
        "import findspark\n",
        "findspark.init()\n",
        "from pyspark.sql import SparkSession\n",
        "\n",
        "spark = SparkSession.builder \\\n",
        "    .config(\"spark.jars\", \"/usr/local/lib/python3.10/dist-packages/pyspark/jars/graphframes-0.8.2-spark3.3.2-s_2.11.jar\") \\\n",
        "    .getOrCreate()\n",
        "\n",
        "spark.conf.set(\"spark.sql.repl.eagerEval.enabled\", True)  # Property used to format output tables better\\\n"
      ],
      "metadata": {
        "id": "ar1W2F-fVd9G"
      },
      "execution_count": null,
      "outputs": []
    },
    {
      "cell_type": "code",
      "source": [
        "print('PySpark Version :'+spark.version)\n",
        "print('PySpark Version :'+spark.sparkContext.version)\n"
      ],
      "metadata": {
        "id": "E59CQbZIRtuY",
        "colab": {
          "base_uri": "https://localhost:8080/"
        },
        "outputId": "a0aee94d-de4f-4bb6-a392-7d8d29259cbc"
      },
      "execution_count": null,
      "outputs": [
        {
          "output_type": "stream",
          "name": "stdout",
          "text": [
            "PySpark Version :3.5.1\n",
            "PySpark Version :3.5.1\n"
          ]
        }
      ]
    },
    {
      "cell_type": "code",
      "source": [
        "!pip install graphframes"
      ],
      "metadata": {
        "id": "ZEITP2z1O8YF",
        "colab": {
          "base_uri": "https://localhost:8080/"
        },
        "outputId": "6760cb05-7c0e-49fb-c7c4-61cb06a77807"
      },
      "execution_count": null,
      "outputs": [
        {
          "output_type": "stream",
          "name": "stdout",
          "text": [
            "Requirement already satisfied: graphframes in /usr/local/lib/python3.10/dist-packages (0.6)\n",
            "Requirement already satisfied: numpy in /usr/local/lib/python3.10/dist-packages (from graphframes) (1.25.2)\n",
            "Requirement already satisfied: nose in /usr/local/lib/python3.10/dist-packages (from graphframes) (1.3.7)\n"
          ]
        }
      ]
    },
    {
      "cell_type": "code",
      "source": [
        "from graphframes import *\n",
        "from graphframes import GraphFrame"
      ],
      "metadata": {
        "id": "SJetIx5LJByx"
      },
      "execution_count": null,
      "outputs": []
    },
    {
      "cell_type": "code",
      "source": [
        "g = GraphFrame(v, e)"
      ],
      "metadata": {
        "id": "z1qbyFDRQ8G4",
        "colab": {
          "base_uri": "https://localhost:8080/"
        },
        "outputId": "d71a84ed-50b4-4bd8-f2e2-89325e60ae2d"
      },
      "execution_count": null,
      "outputs": [
        {
          "output_type": "stream",
          "name": "stderr",
          "text": [
            "/usr/local/lib/python3.10/dist-packages/pyspark/sql/dataframe.py:168: UserWarning: DataFrame.sql_ctx is an internal property, and will be removed in future releases. Use DataFrame.sparkSession instead.\n",
            "  warnings.warn(\n"
          ]
        }
      ]
    },
    {
      "cell_type": "code",
      "source": [
        "\n",
        "import pandas as pd\n",
        "\n",
        "# Load the dataset into a DataFrame\n",
        "traffic = pd.read_csv(\"/content/T_T100D_SEGMENT_US_CARRIER_ONLY.csv\")\n",
        "traffic.head()\n"
      ],
      "metadata": {
        "id": "xIJKcudraWnT",
        "colab": {
          "base_uri": "https://localhost:8080/",
          "height": 206
        },
        "outputId": "2adae1ab-69e0-4495-c13d-a476eb0bbf69"
      },
      "execution_count": null,
      "outputs": [
        {
          "output_type": "execute_result",
          "data": {
            "text/plain": [
              "  ORIGIN   ORIGIN_CITY_NAME DEST     DEST_CITY_NAME\n",
              "0    06A       Kizhuyak, AK  A43  Kodiak Island, AK\n",
              "1    1AK      Mertarvik, AK  WWT         Newtok, AK\n",
              "2    1B1         Hudson, NY  N8C     Oak Island, NC\n",
              "3    1B1         Hudson, NY  VNY       Van Nuys, CA\n",
              "4    1G4  Peach Springs, AZ  BLD   Boulder City, NV"
            ],
            "text/html": [
              "\n",
              "  <div id=\"df-4f6fee5d-aa3a-4b9a-8186-2ecb3e06fed1\" class=\"colab-df-container\">\n",
              "    <div>\n",
              "<style scoped>\n",
              "    .dataframe tbody tr th:only-of-type {\n",
              "        vertical-align: middle;\n",
              "    }\n",
              "\n",
              "    .dataframe tbody tr th {\n",
              "        vertical-align: top;\n",
              "    }\n",
              "\n",
              "    .dataframe thead th {\n",
              "        text-align: right;\n",
              "    }\n",
              "</style>\n",
              "<table border=\"1\" class=\"dataframe\">\n",
              "  <thead>\n",
              "    <tr style=\"text-align: right;\">\n",
              "      <th></th>\n",
              "      <th>ORIGIN</th>\n",
              "      <th>ORIGIN_CITY_NAME</th>\n",
              "      <th>DEST</th>\n",
              "      <th>DEST_CITY_NAME</th>\n",
              "    </tr>\n",
              "  </thead>\n",
              "  <tbody>\n",
              "    <tr>\n",
              "      <th>0</th>\n",
              "      <td>06A</td>\n",
              "      <td>Kizhuyak, AK</td>\n",
              "      <td>A43</td>\n",
              "      <td>Kodiak Island, AK</td>\n",
              "    </tr>\n",
              "    <tr>\n",
              "      <th>1</th>\n",
              "      <td>1AK</td>\n",
              "      <td>Mertarvik, AK</td>\n",
              "      <td>WWT</td>\n",
              "      <td>Newtok, AK</td>\n",
              "    </tr>\n",
              "    <tr>\n",
              "      <th>2</th>\n",
              "      <td>1B1</td>\n",
              "      <td>Hudson, NY</td>\n",
              "      <td>N8C</td>\n",
              "      <td>Oak Island, NC</td>\n",
              "    </tr>\n",
              "    <tr>\n",
              "      <th>3</th>\n",
              "      <td>1B1</td>\n",
              "      <td>Hudson, NY</td>\n",
              "      <td>VNY</td>\n",
              "      <td>Van Nuys, CA</td>\n",
              "    </tr>\n",
              "    <tr>\n",
              "      <th>4</th>\n",
              "      <td>1G4</td>\n",
              "      <td>Peach Springs, AZ</td>\n",
              "      <td>BLD</td>\n",
              "      <td>Boulder City, NV</td>\n",
              "    </tr>\n",
              "  </tbody>\n",
              "</table>\n",
              "</div>\n",
              "    <div class=\"colab-df-buttons\">\n",
              "\n",
              "  <div class=\"colab-df-container\">\n",
              "    <button class=\"colab-df-convert\" onclick=\"convertToInteractive('df-4f6fee5d-aa3a-4b9a-8186-2ecb3e06fed1')\"\n",
              "            title=\"Convert this dataframe to an interactive table.\"\n",
              "            style=\"display:none;\">\n",
              "\n",
              "  <svg xmlns=\"http://www.w3.org/2000/svg\" height=\"24px\" viewBox=\"0 -960 960 960\">\n",
              "    <path d=\"M120-120v-720h720v720H120Zm60-500h600v-160H180v160Zm220 220h160v-160H400v160Zm0 220h160v-160H400v160ZM180-400h160v-160H180v160Zm440 0h160v-160H620v160ZM180-180h160v-160H180v160Zm440 0h160v-160H620v160Z\"/>\n",
              "  </svg>\n",
              "    </button>\n",
              "\n",
              "  <style>\n",
              "    .colab-df-container {\n",
              "      display:flex;\n",
              "      gap: 12px;\n",
              "    }\n",
              "\n",
              "    .colab-df-convert {\n",
              "      background-color: #E8F0FE;\n",
              "      border: none;\n",
              "      border-radius: 50%;\n",
              "      cursor: pointer;\n",
              "      display: none;\n",
              "      fill: #1967D2;\n",
              "      height: 32px;\n",
              "      padding: 0 0 0 0;\n",
              "      width: 32px;\n",
              "    }\n",
              "\n",
              "    .colab-df-convert:hover {\n",
              "      background-color: #E2EBFA;\n",
              "      box-shadow: 0px 1px 2px rgba(60, 64, 67, 0.3), 0px 1px 3px 1px rgba(60, 64, 67, 0.15);\n",
              "      fill: #174EA6;\n",
              "    }\n",
              "\n",
              "    .colab-df-buttons div {\n",
              "      margin-bottom: 4px;\n",
              "    }\n",
              "\n",
              "    [theme=dark] .colab-df-convert {\n",
              "      background-color: #3B4455;\n",
              "      fill: #D2E3FC;\n",
              "    }\n",
              "\n",
              "    [theme=dark] .colab-df-convert:hover {\n",
              "      background-color: #434B5C;\n",
              "      box-shadow: 0px 1px 3px 1px rgba(0, 0, 0, 0.15);\n",
              "      filter: drop-shadow(0px 1px 2px rgba(0, 0, 0, 0.3));\n",
              "      fill: #FFFFFF;\n",
              "    }\n",
              "  </style>\n",
              "\n",
              "    <script>\n",
              "      const buttonEl =\n",
              "        document.querySelector('#df-4f6fee5d-aa3a-4b9a-8186-2ecb3e06fed1 button.colab-df-convert');\n",
              "      buttonEl.style.display =\n",
              "        google.colab.kernel.accessAllowed ? 'block' : 'none';\n",
              "\n",
              "      async function convertToInteractive(key) {\n",
              "        const element = document.querySelector('#df-4f6fee5d-aa3a-4b9a-8186-2ecb3e06fed1');\n",
              "        const dataTable =\n",
              "          await google.colab.kernel.invokeFunction('convertToInteractive',\n",
              "                                                    [key], {});\n",
              "        if (!dataTable) return;\n",
              "\n",
              "        const docLinkHtml = 'Like what you see? Visit the ' +\n",
              "          '<a target=\"_blank\" href=https://colab.research.google.com/notebooks/data_table.ipynb>data table notebook</a>'\n",
              "          + ' to learn more about interactive tables.';\n",
              "        element.innerHTML = '';\n",
              "        dataTable['output_type'] = 'display_data';\n",
              "        await google.colab.output.renderOutput(dataTable, element);\n",
              "        const docLink = document.createElement('div');\n",
              "        docLink.innerHTML = docLinkHtml;\n",
              "        element.appendChild(docLink);\n",
              "      }\n",
              "    </script>\n",
              "  </div>\n",
              "\n",
              "\n",
              "<div id=\"df-8d7735ac-850d-433f-93cf-5f30ac14c24b\">\n",
              "  <button class=\"colab-df-quickchart\" onclick=\"quickchart('df-8d7735ac-850d-433f-93cf-5f30ac14c24b')\"\n",
              "            title=\"Suggest charts\"\n",
              "            style=\"display:none;\">\n",
              "\n",
              "<svg xmlns=\"http://www.w3.org/2000/svg\" height=\"24px\"viewBox=\"0 0 24 24\"\n",
              "     width=\"24px\">\n",
              "    <g>\n",
              "        <path d=\"M19 3H5c-1.1 0-2 .9-2 2v14c0 1.1.9 2 2 2h14c1.1 0 2-.9 2-2V5c0-1.1-.9-2-2-2zM9 17H7v-7h2v7zm4 0h-2V7h2v10zm4 0h-2v-4h2v4z\"/>\n",
              "    </g>\n",
              "</svg>\n",
              "  </button>\n",
              "\n",
              "<style>\n",
              "  .colab-df-quickchart {\n",
              "      --bg-color: #E8F0FE;\n",
              "      --fill-color: #1967D2;\n",
              "      --hover-bg-color: #E2EBFA;\n",
              "      --hover-fill-color: #174EA6;\n",
              "      --disabled-fill-color: #AAA;\n",
              "      --disabled-bg-color: #DDD;\n",
              "  }\n",
              "\n",
              "  [theme=dark] .colab-df-quickchart {\n",
              "      --bg-color: #3B4455;\n",
              "      --fill-color: #D2E3FC;\n",
              "      --hover-bg-color: #434B5C;\n",
              "      --hover-fill-color: #FFFFFF;\n",
              "      --disabled-bg-color: #3B4455;\n",
              "      --disabled-fill-color: #666;\n",
              "  }\n",
              "\n",
              "  .colab-df-quickchart {\n",
              "    background-color: var(--bg-color);\n",
              "    border: none;\n",
              "    border-radius: 50%;\n",
              "    cursor: pointer;\n",
              "    display: none;\n",
              "    fill: var(--fill-color);\n",
              "    height: 32px;\n",
              "    padding: 0;\n",
              "    width: 32px;\n",
              "  }\n",
              "\n",
              "  .colab-df-quickchart:hover {\n",
              "    background-color: var(--hover-bg-color);\n",
              "    box-shadow: 0 1px 2px rgba(60, 64, 67, 0.3), 0 1px 3px 1px rgba(60, 64, 67, 0.15);\n",
              "    fill: var(--button-hover-fill-color);\n",
              "  }\n",
              "\n",
              "  .colab-df-quickchart-complete:disabled,\n",
              "  .colab-df-quickchart-complete:disabled:hover {\n",
              "    background-color: var(--disabled-bg-color);\n",
              "    fill: var(--disabled-fill-color);\n",
              "    box-shadow: none;\n",
              "  }\n",
              "\n",
              "  .colab-df-spinner {\n",
              "    border: 2px solid var(--fill-color);\n",
              "    border-color: transparent;\n",
              "    border-bottom-color: var(--fill-color);\n",
              "    animation:\n",
              "      spin 1s steps(1) infinite;\n",
              "  }\n",
              "\n",
              "  @keyframes spin {\n",
              "    0% {\n",
              "      border-color: transparent;\n",
              "      border-bottom-color: var(--fill-color);\n",
              "      border-left-color: var(--fill-color);\n",
              "    }\n",
              "    20% {\n",
              "      border-color: transparent;\n",
              "      border-left-color: var(--fill-color);\n",
              "      border-top-color: var(--fill-color);\n",
              "    }\n",
              "    30% {\n",
              "      border-color: transparent;\n",
              "      border-left-color: var(--fill-color);\n",
              "      border-top-color: var(--fill-color);\n",
              "      border-right-color: var(--fill-color);\n",
              "    }\n",
              "    40% {\n",
              "      border-color: transparent;\n",
              "      border-right-color: var(--fill-color);\n",
              "      border-top-color: var(--fill-color);\n",
              "    }\n",
              "    60% {\n",
              "      border-color: transparent;\n",
              "      border-right-color: var(--fill-color);\n",
              "    }\n",
              "    80% {\n",
              "      border-color: transparent;\n",
              "      border-right-color: var(--fill-color);\n",
              "      border-bottom-color: var(--fill-color);\n",
              "    }\n",
              "    90% {\n",
              "      border-color: transparent;\n",
              "      border-bottom-color: var(--fill-color);\n",
              "    }\n",
              "  }\n",
              "</style>\n",
              "\n",
              "  <script>\n",
              "    async function quickchart(key) {\n",
              "      const quickchartButtonEl =\n",
              "        document.querySelector('#' + key + ' button');\n",
              "      quickchartButtonEl.disabled = true;  // To prevent multiple clicks.\n",
              "      quickchartButtonEl.classList.add('colab-df-spinner');\n",
              "      try {\n",
              "        const charts = await google.colab.kernel.invokeFunction(\n",
              "            'suggestCharts', [key], {});\n",
              "      } catch (error) {\n",
              "        console.error('Error during call to suggestCharts:', error);\n",
              "      }\n",
              "      quickchartButtonEl.classList.remove('colab-df-spinner');\n",
              "      quickchartButtonEl.classList.add('colab-df-quickchart-complete');\n",
              "    }\n",
              "    (() => {\n",
              "      let quickchartButtonEl =\n",
              "        document.querySelector('#df-8d7735ac-850d-433f-93cf-5f30ac14c24b button');\n",
              "      quickchartButtonEl.style.display =\n",
              "        google.colab.kernel.accessAllowed ? 'block' : 'none';\n",
              "    })();\n",
              "  </script>\n",
              "</div>\n",
              "\n",
              "    </div>\n",
              "  </div>\n"
            ],
            "application/vnd.google.colaboratory.intrinsic+json": {
              "type": "dataframe",
              "variable_name": "traffic",
              "summary": "{\n  \"name\": \"traffic\",\n  \"rows\": 36244,\n  \"fields\": [\n    {\n      \"column\": \"ORIGIN\",\n      \"properties\": {\n        \"dtype\": \"category\",\n        \"num_unique_values\": 948,\n        \"samples\": [\n          \"MUE\",\n          \"WTL\",\n          \"BYH\"\n        ],\n        \"semantic_type\": \"\",\n        \"description\": \"\"\n      }\n    },\n    {\n      \"column\": \"ORIGIN_CITY_NAME\",\n      \"properties\": {\n        \"dtype\": \"category\",\n        \"num_unique_values\": 887,\n        \"samples\": [\n          \"Garden City, KS\",\n          \"Brooks Lodge, AK\",\n          \"Jackson, TN\"\n        ],\n        \"semantic_type\": \"\",\n        \"description\": \"\"\n      }\n    },\n    {\n      \"column\": \"DEST\",\n      \"properties\": {\n        \"dtype\": \"category\",\n        \"num_unique_values\": 949,\n        \"samples\": [\n          \"DCK\",\n          \"MBS\",\n          \"GBH\"\n        ],\n        \"semantic_type\": \"\",\n        \"description\": \"\"\n      }\n    },\n    {\n      \"column\": \"DEST_CITY_NAME\",\n      \"properties\": {\n        \"dtype\": \"category\",\n        \"num_unique_values\": 889,\n        \"samples\": [\n          \"Petersburg, AK\",\n          \"Blakely Island, WA\",\n          \"Atlanta, GA\"\n        ],\n        \"semantic_type\": \"\",\n        \"description\": \"\"\n      }\n    }\n  ]\n}"
            }
          },
          "metadata": {},
          "execution_count": 31
        }
      ]
    },
    {
      "cell_type": "code",
      "source": [
        "# Install PySpark\n",
        "!pip install pyspark\n",
        "\n",
        "# Import necessary modules\n",
        "from pyspark.sql import SparkSession\n",
        "from graphframes import GraphFrame\n",
        "\n",
        "# Initialize SparkSession\n",
        "spark = SparkSession.builder \\\n",
        "    .appName(\"YourAppName\") \\\n",
        "    .getOrCreate()\n",
        "\n",
        "# Assuming 'traffic' is your Pandas DataFrame containing airport data\n",
        "# Convert Pandas DataFrame to Spark DataFrame\n",
        "traffic_spark = spark.createDataFrame(traffic)\n",
        "\n",
        "# Create vertices DataFrame with distinct origin airports\n",
        "vertices = traffic_spark.selectExpr(\"Origin AS id\").distinct()\n",
        "\n",
        "# Create edges DataFrame with origin and destination airports\n",
        "edges = traffic_spark.selectExpr(\"Origin AS src\", \"Dest AS dst\")\n",
        "\n",
        "# Create a GraphFrame\n",
        "graph = GraphFrame(vertices, edges)\n",
        "\n",
        "# Run your queries\n",
        "out_degree = graph.outDegrees\n",
        "top_out_degree = out_degree.orderBy(out_degree[\"outDegree\"].desc()).limit(5)\n",
        "top_out_degree.show()\n",
        "\n",
        "# b. Find the top 5 nodes with the highest indegree and count of incoming edges\n",
        "in_degree = graph.inDegrees\n",
        "top_in_degree = in_degree.orderBy(in_degree[\"inDegree\"].desc()).limit(5)\n",
        "top_in_degree.show()\n",
        "\n",
        "# c. Calculate PageRank for each node and output the top 5 nodes with the highest PageRank values\n",
        "page_rank = graph.pageRank(resetProbability=0.15, maxIter=10)\n",
        "top_page_rank = page_rank.vertices.orderBy(page_rank.vertices[\"pagerank\"].desc()).limit(5)\n",
        "top_page_rank.show()\n",
        "\n",
        "# d. Run strongly connected components algorithm and find the top 5 components with the largest number of nodes\n",
        "strongly_connected_components = graph.stronglyConnectedComponents(maxIter=10)\n",
        "top_components = strongly_connected_components.groupBy(\"component\").count().orderBy(\"count\", ascending=False).limit(5)\n",
        "top_components.show()\n",
        "\n",
        "# e. Run the triangle counts algorithm on each vertex and output the top 5 vertices with the largest triangle count\n",
        "triangle_counts = graph.triangleCount()\n",
        "top_triangle_counts = triangle_counts.orderBy(triangle_counts[\"count\"].desc()).limit(5)\n",
        "top_triangle_counts.show()\n",
        "\n",
        "# Stop the SparkSession\n",
        "spark.stop()"
      ],
      "metadata": {
        "id": "WJPgQceCdh-J",
        "colab": {
          "base_uri": "https://localhost:8080/"
        },
        "outputId": "416d9a54-4655-410c-e103-099928ec0997"
      },
      "execution_count": null,
      "outputs": [
        {
          "output_type": "stream",
          "name": "stdout",
          "text": [
            "Requirement already satisfied: pyspark in /usr/local/lib/python3.10/dist-packages (3.5.1)\n",
            "Requirement already satisfied: py4j==0.10.9.7 in /usr/local/lib/python3.10/dist-packages (from pyspark) (0.10.9.7)\n",
            "+---+---------+\n",
            "| id|outDegree|\n",
            "+---+---------+\n",
            "|DEN|     1130|\n",
            "|ORD|     1088|\n",
            "|ATL|      875|\n",
            "|DFW|      743|\n",
            "|LAS|      723|\n",
            "+---+---------+\n",
            "\n",
            "+---+--------+\n",
            "| id|inDegree|\n",
            "+---+--------+\n",
            "|DEN|    1165|\n",
            "|ORD|    1132|\n",
            "|ATL|     894|\n",
            "|DFW|     748|\n",
            "|LAS|     670|\n",
            "+---+--------+\n",
            "\n",
            "+---+------------------+\n",
            "| id|          pagerank|\n",
            "+---+------------------+\n",
            "|DEN|20.932704424458812|\n",
            "|ORD|18.893082329784082|\n",
            "|ANC|17.720046130077726|\n",
            "|ATL| 14.29288137367108|\n",
            "|DFW|13.847968220299764|\n",
            "+---+------------------+\n",
            "\n",
            "+-------------+-----+\n",
            "|    component|count|\n",
            "+-------------+-----+\n",
            "|            0|  899|\n",
            "|            1|   16|\n",
            "| 927712935941|    2|\n",
            "| 558345748484|    2|\n",
            "|1022202216450|    2|\n",
            "+-------------+-----+\n",
            "\n",
            "+-----+---+\n",
            "|count| id|\n",
            "+-----+---+\n",
            "| 3586|DFW|\n",
            "| 3524|DEN|\n",
            "| 3477|ORD|\n",
            "| 3445|ATL|\n",
            "| 3190|MEM|\n",
            "+-----+---+\n",
            "\n"
          ]
        }
      ]
    },
    {
      "cell_type": "code",
      "source": [],
      "metadata": {
        "id": "TSO2Kc9UK8Cz"
      },
      "execution_count": null,
      "outputs": []
    },
    {
      "cell_type": "markdown",
      "source": [
        "PROBLEM 2"
      ],
      "metadata": {
        "id": "CD-IcUJ1PGU7"
      }
    },
    {
      "cell_type": "code",
      "source": [
        "# Install necessary libraries\n",
        "!pip install pyspark\n",
        "\n",
        "# Import necessary modules\n",
        "from pyspark.sql import SparkSession\n",
        "from pyspark.ml import Pipeline\n",
        "from pyspark.ml.feature import StopWordsRemover, Tokenizer, HashingTF, StringIndexer\n",
        "\n",
        "# Create a SparkSession\n",
        "spark = SparkSession.builder \\\n",
        "    .appName(\"Tweety\") \\\n",
        "    .getOrCreate()\n",
        "\n",
        "# Read the CSV file into a DataFrame\n",
        "tweets = spark.read.option(\"header\", \"true\").csv(\"/content/Tweets.csv\")\n",
        "\n",
        "# Drop rows with null values in the text field\n",
        "tweets = tweets.dropna(subset=[\"text\"])\n",
        "\n",
        "# Define the stages of the pipeline\n",
        "tokenizer = Tokenizer(inputCol=\"text\", outputCol=\"words\")\n",
        "remover = StopWordsRemover(inputCol=tokenizer.getOutputCol(), outputCol=\"filtered_words\")\n",
        "hashingTF = HashingTF(inputCol=remover.getOutputCol(), outputCol=\"features\")\n",
        "labelIndexer = StringIndexer(inputCol=\"airline_sentiment\", outputCol=\"label\")\n",
        "\n",
        "# Create the pipeline\n",
        "pipeline = Pipeline(stages=[tokenizer, remover, hashingTF, labelIndexer])\n",
        "\n",
        "# Fit the pipeline to the data\n",
        "pipeline_model = pipeline.fit(tweets)\n",
        "\n",
        "# Transform the data using the pipeline\n",
        "transformed_tweets = pipeline_model.transform(tweets)\n",
        "\n",
        "# Show the transformed data\n",
        "transformed_tweets.show()"
      ],
      "metadata": {
        "colab": {
          "base_uri": "https://localhost:8080/"
        },
        "id": "dHWU-fEIPKXx",
        "outputId": "69c9a6f8-ed1a-4ce1-bc25-ba5ffd125cd2"
      },
      "execution_count": null,
      "outputs": [
        {
          "output_type": "stream",
          "name": "stdout",
          "text": [
            "Requirement already satisfied: pyspark in /usr/local/lib/python3.10/dist-packages (3.5.1)\n",
            "Requirement already satisfied: py4j==0.10.9.7 in /usr/local/lib/python3.10/dist-packages (from pyspark) (0.10.9.7)\n",
            "+------------------+-----------------+----------------------------+--------------+-------------------------+--------------+----------------------+---------------+-------------------+-------------+--------------------+-----------+--------------------+--------------------+--------------------+--------------------+--------------------+--------------------+-----+\n",
            "|          tweet_id|airline_sentiment|airline_sentiment_confidence|negativereason|negativereason_confidence|       airline|airline_sentiment_gold|           name|negativereason_gold|retweet_count|                text|tweet_coord|       tweet_created|      tweet_location|       user_timezone|               words|      filtered_words|            features|label|\n",
            "+------------------+-----------------+----------------------------+--------------+-------------------------+--------------+----------------------+---------------+-------------------+-------------+--------------------+-----------+--------------------+--------------------+--------------------+--------------------+--------------------+--------------------+-----+\n",
            "|570306133677760513|          neutral|                         1.0|          NULL|                     NULL|Virgin America|                  NULL|        cairdin|               NULL|            0|@VirginAmerica Wh...|       NULL|2015-02-24 11:35:...|                NULL|Eastern Time (US ...|[@virginamerica, ...|[@virginamerica, ...|(262144,[171322,1...|  1.0|\n",
            "|570301130888122368|         positive|                      0.3486|          NULL|                      0.0|Virgin America|                  NULL|       jnardino|               NULL|            0|@VirginAmerica pl...|       NULL|2015-02-24 11:15:...|                NULL|Pacific Time (US ...|[@virginamerica, ...|[@virginamerica, ...|(262144,[1419,999...|  2.0|\n",
            "|570301083672813571|          neutral|                      0.6837|          NULL|                     NULL|Virgin America|                  NULL|     yvonnalynn|               NULL|            0|@VirginAmerica I ...|       NULL|2015-02-24 11:15:...|           Lets Play|Central Time (US ...|[@virginamerica, ...|[@virginamerica, ...|(262144,[11368,55...|  1.0|\n",
            "|570301031407624196|         negative|                         1.0|    Bad Flight|                   0.7033|Virgin America|                  NULL|       jnardino|               NULL|            0|\"@VirginAmerica i...|       NULL|2015-02-24 11:15:...|                NULL|Pacific Time (US ...|[\"@virginamerica,...|[\"@virginamerica,...|(262144,[1097,186...|  0.0|\n",
            "|570300817074462722|         negative|                         1.0|    Can't Tell|                      1.0|Virgin America|                  NULL|       jnardino|               NULL|            0|@VirginAmerica an...|       NULL|2015-02-24 11:14:...|                NULL|Pacific Time (US ...|[@virginamerica, ...|[@virginamerica, ...|(262144,[70065,14...|  0.0|\n",
            "|570300767074181121|         negative|                         1.0|    Can't Tell|                   0.6842|Virgin America|                  NULL|       jnardino|               NULL|            0|@VirginAmerica se...|       NULL|                NULL|                NULL|                NULL|[@virginamerica, ...|[@virginamerica, ...|(262144,[30053,44...|  0.0|\n",
            "|570300616901320704|         positive|                      0.6745|          NULL|                      0.0|Virgin America|                  NULL|     cjmcginnis|               NULL|            0|@VirginAmerica ye...|       NULL|2015-02-24 11:13:...|    San Francisco CA|Pacific Time (US ...|[@virginamerica, ...|[@virginamerica, ...|(262144,[6034,912...|  2.0|\n",
            "|570300248553349120|          neutral|                       0.634|          NULL|                     NULL|Virgin America|                  NULL|          pilot|               NULL|            0|@VirginAmerica Re...|       NULL|2015-02-24 11:12:...|         Los Angeles|Pacific Time (US ...|[@virginamerica, ...|[@virginamerica, ...|(262144,[10723,14...|  1.0|\n",
            "|570299953286942721|         positive|                      0.6559|          NULL|                     NULL|Virgin America|                  NULL|       dhepburn|               NULL|            0|@virginamerica We...|       NULL|2015-02-24 11:11:...|           San Diego|Pacific Time (US ...|[@virginamerica, ...|[@virginamerica, ...|(262144,[93116,15...|  2.0|\n",
            "|570295459631263746|         positive|                         1.0|          NULL|                     NULL|Virgin America|                  NULL|     YupitsTate|               NULL|            0|@VirginAmerica it...|       NULL|2015-02-24 10:53:...|         Los Angeles|Eastern Time (US ...|[@virginamerica, ...|[@virginamerica, ...|(262144,[77073,98...|  2.0|\n",
            "|570294189143031808|          neutral|                      0.6769|          NULL|                      0.0|Virgin America|                  NULL|idk_but_youtube|               NULL|            0|@VirginAmerica di...|       NULL|2015-02-24 10:48:...|     1/1 loner squad|Eastern Time (US ...|[@virginamerica, ...|[@virginamerica, ...|(262144,[58233,77...|  1.0|\n",
            "|570289724453216256|         positive|                         1.0|          NULL|                     NULL|Virgin America|                  NULL|   HyperCamiLax|               NULL|            0|@VirginAmerica I ...|       NULL|2015-02-24 10:30:...|                 NYC|    America/New_York|[@virginamerica, ...|[@virginamerica, ...|(262144,[23071,36...|  2.0|\n",
            "|570289584061480960|         positive|                         1.0|          NULL|                     NULL|Virgin America|                  NULL|   HyperCamiLax|               NULL|            0|@VirginAmerica Th...|       NULL|2015-02-24 10:30:...|                 NYC|    America/New_York|[@virginamerica, ...|[@virginamerica, ...|(262144,[2306,135...|  2.0|\n",
            "|570287408438120448|         positive|                      0.6451|          NULL|                     NULL|Virgin America|                  NULL|   mollanderson|               NULL|            0|@VirginAmerica @v...|       NULL|2015-02-24 10:21:...|                NULL|Eastern Time (US ...|[@virginamerica, ...|[@virginamerica, ...|(262144,[9129,253...|  2.0|\n",
            "|570285904809598977|         positive|                         1.0|          NULL|                     NULL|Virgin America|                  NULL|       sjespers|               NULL|            0|@VirginAmerica Th...|       NULL|2015-02-24 10:15:...|   San Francisco, CA|Pacific Time (US ...|[@virginamerica, ...|[@virginamerica, ...|(262144,[83680,17...|  2.0|\n",
            "|570282469121007616|         negative|                      0.6842|   Late Flight|                   0.3684|Virgin America|                  NULL|smartwatermelon|               NULL|            0|@VirginAmerica SF...|       NULL|2015-02-24 10:01:...|       palo alto, ca|Pacific Time (US ...|[@virginamerica, ...|[@virginamerica, ...|(262144,[31536,96...|  0.0|\n",
            "|570277724385734656|         positive|                         1.0|          NULL|                     NULL|Virgin America|                  NULL|  ItzBrianHunty|               NULL|            0|@VirginAmerica So...|       NULL|2015-02-24 09:42:...|         west covina|Pacific Time (US ...|[@virginamerica, ...|[@virginamerica, ...|(262144,[30053,53...|  2.0|\n",
            "|570276917301137409|         negative|                         1.0|    Bad Flight|                      1.0|Virgin America|                  NULL|  heatherovieda|               NULL|            0|@VirginAmerica  I...|       NULL|2015-02-24 09:39:...|this place called...|Eastern Time (US ...|[@virginamerica, ...|[@virginamerica, ...|(262144,[2325,538...|  0.0|\n",
            "|570270684619923457|         positive|                         1.0|          NULL|                     NULL|Virgin America|                  NULL|   thebrandiray|               NULL|            0|I ❤️ flying @Virg...|       NULL|2015-02-24 09:15:...|Somewhere celebra...|Atlantic Time (Ca...|[i, ❤️, flying, @...|[❤️, flying, @vir...|(262144,[6691,888...|  2.0|\n",
            "|570267956648792064|         positive|                         1.0|          NULL|                     NULL|Virgin America|                  NULL|      JNLpierce|               NULL|            0|@VirginAmerica yo...|       NULL|2015-02-24 09:04:...|    Boston | Waltham|               Quito|[@virginamerica, ...|[@virginamerica, ...|(262144,[39928,10...|  2.0|\n",
            "+------------------+-----------------+----------------------------+--------------+-------------------------+--------------+----------------------+---------------+-------------------+-------------+--------------------+-----------+--------------------+--------------------+--------------------+--------------------+--------------------+--------------------+-----+\n",
            "only showing top 20 rows\n",
            "\n"
          ]
        }
      ]
    },
    {
      "cell_type": "code",
      "source": [
        "from pyspark.ml import Pipeline\n",
        "from pyspark.ml.classification import LogisticRegression\n",
        "from pyspark.ml.evaluation import MulticlassClassificationEvaluator\n",
        "\n",
        "# Define the logistic regression classifier\n",
        "lr = LogisticRegression(featuresCol='features', labelCol='label')\n",
        "\n",
        "# Create a pipeline\n",
        "pipeline = Pipeline(stages=[tokenizer, remover, hashingTF, labelIndexer, lr])\n",
        "\n",
        "# Split the data into training and testing sets (assuming you already have a DataFrame named 'tweets')\n",
        "(trainingData, testData) = tweets.randomSplit([0.8, 0.2], seed=123)\n",
        "\n",
        "# Fit the pipeline to the training data\n",
        "model = pipeline.fit(trainingData)\n",
        "\n",
        "# Make predictions on the testing data\n",
        "predictions = model.transform(testData)\n",
        "\n",
        "# Evaluate the model\n",
        "evaluator = MulticlassClassificationEvaluator(predictionCol=\"prediction\", labelCol=\"label\", metricName=\"accuracy\")\n",
        "accuracy = evaluator.evaluate(predictions)\n",
        "print(\"Accuracy:\", accuracy)"
      ],
      "metadata": {
        "colab": {
          "base_uri": "https://localhost:8080/"
        },
        "id": "zbjtBkwFP0Ts",
        "outputId": "04505a86-d583-45f1-aa06-769c9a05e82f"
      },
      "execution_count": null,
      "outputs": [
        {
          "output_type": "stream",
          "name": "stdout",
          "text": [
            "Accuracy: 0.6707070707070707\n"
          ]
        }
      ]
    },
    {
      "cell_type": "code",
      "source": [
        "from pyspark.ml.tuning import ParamGridBuilder, CrossValidator\n",
        "\n",
        "# Define the parameter grid for tuning\n",
        "paramGrid = ParamGridBuilder() \\\n",
        "    .addGrid(lr.maxIter, [10, 20, 30]) \\\n",
        "    .addGrid(lr.regParam, [0.1, 0.01]) \\\n",
        "    .build()\n",
        "\n",
        "# Create a cross-validator\n",
        "crossval = CrossValidator(estimator=pipeline,\n",
        "                          estimatorParamMaps=paramGrid,\n",
        "                          evaluator=evaluator,\n",
        "                          numFolds=5)  # 5-fold cross-validation\n",
        "\n",
        "# Fit CrossValidator\n",
        "cvModel = crossval.fit(trainingData)\n",
        "bestModel = cvModel.bestModel\n",
        "\n",
        "# Make predictions on the testing data using the best model\n",
        "predictions = bestModel.transform(testData)\n",
        "\n",
        "# Evaluate the model\n",
        "accuracy = evaluator.evaluate(predictions)\n",
        "print(\"Accuracy:\", accuracy)"
      ],
      "metadata": {
        "colab": {
          "base_uri": "https://localhost:8080/"
        },
        "id": "VAcZgzRMQQ4f",
        "outputId": "945507e4-8326-4fff-9826-3d5ab3357be7"
      },
      "execution_count": null,
      "outputs": [
        {
          "output_type": "stream",
          "name": "stdout",
          "text": [
            "Accuracy: 0.7494949494949495\n"
          ]
        }
      ]
    },
    {
      "cell_type": "code",
      "source": [
        "from google.colab import files\n",
        "\n",
        "output_file = \"classification_metrics.txt\"  # Define the file name\n",
        "\n",
        "# Write classification metrics to the file\n",
        "with open(output_file, \"w\") as file:\n",
        "    file.write(\"Classification Metrics:\\n\")\n",
        "    file.write(\"Accuracy: {}\\n\".format(accuracy))\n",
        "\n",
        "# Download the file\n",
        "files.download(output_file)"
      ],
      "metadata": {
        "colab": {
          "base_uri": "https://localhost:8080/",
          "height": 17
        },
        "id": "-GgUVxMyQlSl",
        "outputId": "840233c5-100e-431c-f8d0-22a203af04c3"
      },
      "execution_count": null,
      "outputs": [
        {
          "output_type": "display_data",
          "data": {
            "text/plain": [
              "<IPython.core.display.Javascript object>"
            ],
            "application/javascript": [
              "\n",
              "    async function download(id, filename, size) {\n",
              "      if (!google.colab.kernel.accessAllowed) {\n",
              "        return;\n",
              "      }\n",
              "      const div = document.createElement('div');\n",
              "      const label = document.createElement('label');\n",
              "      label.textContent = `Downloading \"${filename}\": `;\n",
              "      div.appendChild(label);\n",
              "      const progress = document.createElement('progress');\n",
              "      progress.max = size;\n",
              "      div.appendChild(progress);\n",
              "      document.body.appendChild(div);\n",
              "\n",
              "      const buffers = [];\n",
              "      let downloaded = 0;\n",
              "\n",
              "      const channel = await google.colab.kernel.comms.open(id);\n",
              "      // Send a message to notify the kernel that we're ready.\n",
              "      channel.send({})\n",
              "\n",
              "      for await (const message of channel.messages) {\n",
              "        // Send a message to notify the kernel that we're ready.\n",
              "        channel.send({})\n",
              "        if (message.buffers) {\n",
              "          for (const buffer of message.buffers) {\n",
              "            buffers.push(buffer);\n",
              "            downloaded += buffer.byteLength;\n",
              "            progress.value = downloaded;\n",
              "          }\n",
              "        }\n",
              "      }\n",
              "      const blob = new Blob(buffers, {type: 'application/binary'});\n",
              "      const a = document.createElement('a');\n",
              "      a.href = window.URL.createObjectURL(blob);\n",
              "      a.download = filename;\n",
              "      div.appendChild(a);\n",
              "      a.click();\n",
              "      div.remove();\n",
              "    }\n",
              "  "
            ]
          },
          "metadata": {}
        },
        {
          "output_type": "display_data",
          "data": {
            "text/plain": [
              "<IPython.core.display.Javascript object>"
            ],
            "application/javascript": [
              "download(\"download_09eeb62d-9da2-4664-9e8c-a7d70dffb82e\", \"classification_metrics.txt\", 53)"
            ]
          },
          "metadata": {}
        }
      ]
    },
    {
      "cell_type": "code",
      "source": [],
      "metadata": {
        "id": "LH78evA7R4bA"
      },
      "execution_count": null,
      "outputs": []
    }
  ]
}